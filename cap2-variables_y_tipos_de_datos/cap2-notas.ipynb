{
 "cells": [
  {
   "cell_type": "markdown",
   "id": "9b93ce18",
   "metadata": {},
   "source": [
    "# Capitulo 2: Variables y tipos de datos"
   ]
  },
  {
   "cell_type": "markdown",
   "id": "cec3a813",
   "metadata": {},
   "source": [
    "## Introduccion a los tipos de datos\n",
    "\n",
    "| **Grupo** | **Nombre** | **Tipo** | **Ejemplos** | **Mutable** |\n",
    "|:---:|:---:|:---:|:---:|:---:|\n",
    "|  |Entero|`int`|`34, 1_999, -12, -98`| No|\n",
    "| Numericos |Punto flotante|`float`|`1.62, 5.7e8`| No|\n",
    "|  |Complejos|`complex`|`5j, 2 + 8j`| No|\n",
    "| --- | --- | --- | --- | --- |\n",
    "|  |Listas|`list`|`[3.14, 2, False, 'c']`| Si|\n",
    "| Secuencias |Tuplas|`tuple`|`(3, 4, True)`| No|\n",
    "|  |Secuencias numericas |`range`|`range(5)`| No|\n",
    "| --- | --- | --- | --- | --- |\n",
    "| Secuencias de texo |Cadenas de caracteres|`str`|`'casa', \"color\", '''tecla ''', \"\"\"gato\"\"\"`| No|\n",
    "| --- | --- | --- | --- | --- |\n",
    "| Secuencias binarias |Cadenas binarias|`bytes`|`b'coche'`| No|\n",
    "|  |Cadenas binarias mutables |`bytearray`|`bytearray(b'Hola')`| Si|\n",
    "| --- | --- | --- | --- | --- |\n",
    "| Conjuntos | Conjutno |`set`|`set([3, True, 2]), {4, False, 12}`| Si|\n",
    "|  | Conjutno estatico |`frozenset`|`forzenset([2, 'hola', True, 3])`| No|\n",
    "| --- | --- | --- | --- | --- |\n",
    "| Mapas | Diccionarios |`dict`|`{'x': 1, 'y': 2}, dict(x = 90, y = 20)`| Si|"
   ]
  },
  {
   "cell_type": "markdown",
   "id": "9f6fe232",
   "metadata": {},
   "source": [
    "La funcion `type` ayuda a saber el tipo de dato de un objeto, ejemplos:"
   ]
  },
  {
   "cell_type": "code",
   "execution_count": 1,
   "id": "66b49ec7",
   "metadata": {},
   "outputs": [
    {
     "data": {
      "text/plain": [
       "int"
      ]
     },
     "execution_count": 1,
     "metadata": {},
     "output_type": "execute_result"
    }
   ],
   "source": [
    "type(45)"
   ]
  },
  {
   "cell_type": "code",
   "execution_count": 2,
   "id": "aa3b6ef1",
   "metadata": {},
   "outputs": [
    {
     "data": {
      "text/plain": [
       "str"
      ]
     },
     "execution_count": 2,
     "metadata": {},
     "output_type": "execute_result"
    }
   ],
   "source": [
    "type('libro')"
   ]
  },
  {
   "cell_type": "code",
   "execution_count": 3,
   "id": "fffda43a",
   "metadata": {},
   "outputs": [
    {
     "data": {
      "text/plain": [
       "dict"
      ]
     },
     "execution_count": 3,
     "metadata": {},
     "output_type": "execute_result"
    }
   ],
   "source": [
    "type(dict(x = 1, y = 54, z = 14))"
   ]
  },
  {
   "cell_type": "markdown",
   "id": "bfa2bdd6",
   "metadata": {},
   "source": [
    "La funcion `dir`, imprime todas las operaciones el metodo."
   ]
  },
  {
   "cell_type": "code",
   "execution_count": 4,
   "id": "5196d015",
   "metadata": {},
   "outputs": [
    {
     "data": {
      "text/plain": [
       "['__abs__',\n",
       " '__add__',\n",
       " '__and__',\n",
       " '__bool__',\n",
       " '__ceil__',\n",
       " '__class__',\n",
       " '__delattr__',\n",
       " '__dir__',\n",
       " '__divmod__',\n",
       " '__doc__',\n",
       " '__eq__',\n",
       " '__float__',\n",
       " '__floor__',\n",
       " '__floordiv__',\n",
       " '__format__',\n",
       " '__ge__',\n",
       " '__getattribute__',\n",
       " '__getnewargs__',\n",
       " '__gt__',\n",
       " '__hash__',\n",
       " '__index__',\n",
       " '__init__',\n",
       " '__init_subclass__',\n",
       " '__int__',\n",
       " '__invert__',\n",
       " '__le__',\n",
       " '__lshift__',\n",
       " '__lt__',\n",
       " '__mod__',\n",
       " '__mul__',\n",
       " '__ne__',\n",
       " '__neg__',\n",
       " '__new__',\n",
       " '__or__',\n",
       " '__pos__',\n",
       " '__pow__',\n",
       " '__radd__',\n",
       " '__rand__',\n",
       " '__rdivmod__',\n",
       " '__reduce__',\n",
       " '__reduce_ex__',\n",
       " '__repr__',\n",
       " '__rfloordiv__',\n",
       " '__rlshift__',\n",
       " '__rmod__',\n",
       " '__rmul__',\n",
       " '__ror__',\n",
       " '__round__',\n",
       " '__rpow__',\n",
       " '__rrshift__',\n",
       " '__rshift__',\n",
       " '__rsub__',\n",
       " '__rtruediv__',\n",
       " '__rxor__',\n",
       " '__setattr__',\n",
       " '__sizeof__',\n",
       " '__str__',\n",
       " '__sub__',\n",
       " '__subclasshook__',\n",
       " '__truediv__',\n",
       " '__trunc__',\n",
       " '__xor__',\n",
       " 'as_integer_ratio',\n",
       " 'bit_count',\n",
       " 'bit_length',\n",
       " 'conjugate',\n",
       " 'denominator',\n",
       " 'from_bytes',\n",
       " 'imag',\n",
       " 'numerator',\n",
       " 'real',\n",
       " 'to_bytes']"
      ]
     },
     "execution_count": 4,
     "metadata": {},
     "output_type": "execute_result"
    }
   ],
   "source": [
    "dir(45)"
   ]
  },
  {
   "cell_type": "markdown",
   "id": "8338d59e",
   "metadata": {},
   "source": [
    "## Literales, variables y datos en Python"
   ]
  },
  {
   "cell_type": "markdown",
   "id": "c4309f97",
   "metadata": {},
   "source": [
    "### Literales\n",
    "\n",
    "Resultados o formas primitivas que tienen un espacio en memoria. Para saber el identificador de un objeto se puede usar la funcion `id`"
   ]
  },
  {
   "cell_type": "code",
   "execution_count": 5,
   "id": "29e40fa2",
   "metadata": {},
   "outputs": [
    {
     "data": {
      "text/plain": [
       "140394059154960"
      ]
     },
     "execution_count": 5,
     "metadata": {},
     "output_type": "execute_result"
    }
   ],
   "source": [
    "id(42)"
   ]
  },
  {
   "cell_type": "markdown",
   "id": "e8d92654",
   "metadata": {},
   "source": [
    "Si se desea recuperar el objeto con base en un identificador se requiere la ayuda de la liberia `ctypes`"
   ]
  },
  {
   "cell_type": "code",
   "execution_count": 6,
   "id": "a8701823",
   "metadata": {},
   "outputs": [
    {
     "data": {
      "text/plain": [
       "42"
      ]
     },
     "execution_count": 6,
     "metadata": {},
     "output_type": "execute_result"
    }
   ],
   "source": [
    "import ctypes\n",
    "ctypes.cast(140394059154960, ctypes.py_object).value"
   ]
  },
  {
   "cell_type": "markdown",
   "id": "9a49073b",
   "metadata": {},
   "source": [
    "Otro ejemplo"
   ]
  },
  {
   "cell_type": "code",
   "execution_count": 7,
   "id": "53ec7782",
   "metadata": {},
   "outputs": [
    {
     "data": {
      "text/plain": [
       "140394058252464"
      ]
     },
     "execution_count": 7,
     "metadata": {},
     "output_type": "execute_result"
    }
   ],
   "source": [
    "id('b')"
   ]
  },
  {
   "cell_type": "code",
   "execution_count": 8,
   "id": "33bcb0ed",
   "metadata": {},
   "outputs": [
    {
     "data": {
      "text/plain": [
       "'b'"
      ]
     },
     "execution_count": 8,
     "metadata": {},
     "output_type": "execute_result"
    }
   ],
   "source": [
    "ctypes.cast(140394058252464, ctypes.py_object).value"
   ]
  },
  {
   "cell_type": "markdown",
   "id": "9abf5035",
   "metadata": {},
   "source": [
    "### Variables e identificadores\n",
    "\n",
    "Las variables permiten nombrar los literales y manipularlos, ejemplo"
   ]
  },
  {
   "cell_type": "code",
   "execution_count": 9,
   "id": "c2c5ee72",
   "metadata": {},
   "outputs": [],
   "source": [
    "puntuacion = 23\n",
    "cuidad = 'Nueva York'"
   ]
  },
  {
   "cell_type": "code",
   "execution_count": 10,
   "id": "6642e270",
   "metadata": {},
   "outputs": [
    {
     "data": {
      "text/plain": [
       "23"
      ]
     },
     "execution_count": 10,
     "metadata": {},
     "output_type": "execute_result"
    }
   ],
   "source": [
    "puntuacion"
   ]
  },
  {
   "cell_type": "code",
   "execution_count": 11,
   "id": "44a7c192",
   "metadata": {},
   "outputs": [
    {
     "data": {
      "text/plain": [
       "'Nueva York'"
      ]
     },
     "execution_count": 11,
     "metadata": {},
     "output_type": "execute_result"
    }
   ],
   "source": [
    "cuidad"
   ]
  },
  {
   "cell_type": "markdown",
   "id": "cfc88795",
   "metadata": {},
   "source": [
    "A continuacion se muestra un ejemplo de los nombres validos para variables en Python\n",
    "\n",
    "|**Nombres validos**|**Nombres no validos**|\n",
    "|:---:|:---:|\n",
    "|`casa`|`1b`|\n",
    "|`_coche`|`perro!`|\n",
    "|`PUNTO`|`$ladrido`|\n",
    "|`python_3`|`python-3`|\n",
    "|`alfombra3`|`alfombra$3`|\n"
   ]
  },
  {
   "cell_type": "markdown",
   "id": "c4ed114d",
   "metadata": {},
   "source": [
    "El leguaje de programacion tiene palabras reservadas que se pueden ver con el comando `help('keywords')`, estas palabras no se pueden usar para asignacion de variables"
   ]
  },
  {
   "cell_type": "code",
   "execution_count": 12,
   "id": "c99f0f30",
   "metadata": {},
   "outputs": [
    {
     "name": "stdout",
     "output_type": "stream",
     "text": [
      "\n",
      "Here is a list of the Python keywords.  Enter any keyword to get more help.\n",
      "\n",
      "False               class               from                or\n",
      "None                continue            global              pass\n",
      "True                def                 if                  raise\n",
      "and                 del                 import              return\n",
      "as                  elif                in                  try\n",
      "assert              else                is                  while\n",
      "async               except              lambda              with\n",
      "await               finally             nonlocal            yield\n",
      "break               for                 not                 \n",
      "\n"
     ]
    }
   ],
   "source": [
    "help('keywords')"
   ]
  },
  {
   "cell_type": "markdown",
   "id": "34df9c7f",
   "metadata": {},
   "source": [
    "Ejemplo de operaciones haciendo uso de variables"
   ]
  },
  {
   "cell_type": "code",
   "execution_count": 13,
   "id": "c1b9e56f",
   "metadata": {},
   "outputs": [],
   "source": [
    "balance = 542\n",
    "gasto = 231\n",
    "beneficio_neto = balance - gasto"
   ]
  },
  {
   "cell_type": "code",
   "execution_count": 14,
   "id": "492fb4cf",
   "metadata": {},
   "outputs": [
    {
     "data": {
      "text/plain": [
       "311"
      ]
     },
     "execution_count": 14,
     "metadata": {},
     "output_type": "execute_result"
    }
   ],
   "source": [
    "beneficio_neto"
   ]
  },
  {
   "cell_type": "markdown",
   "id": "7f67f6d8",
   "metadata": {},
   "source": [
    "Si la variable no existe, saldra un error de tipo `NameError`, ejemplo"
   ]
  },
  {
   "cell_type": "code",
   "execution_count": 15,
   "id": "ba090c27",
   "metadata": {},
   "outputs": [
    {
     "ename": "NameError",
     "evalue": "name 'meses' is not defined",
     "output_type": "error",
     "traceback": [
      "\u001b[0;31m---------------------------------------------------------------------------\u001b[0m",
      "\u001b[0;31mNameError\u001b[0m                                 Traceback (most recent call last)",
      "Input \u001b[0;32mIn [15]\u001b[0m, in \u001b[0;36m<cell line: 1>\u001b[0;34m()\u001b[0m\n\u001b[0;32m----> 1\u001b[0m beneficio_mensual \u001b[38;5;241m=\u001b[39m beneficio_neto \u001b[38;5;241m/\u001b[39m \u001b[43mmeses\u001b[49m\n",
      "\u001b[0;31mNameError\u001b[0m: name 'meses' is not defined"
     ]
    }
   ],
   "source": [
    "beneficio_mensual = beneficio_neto / meses"
   ]
  },
  {
   "cell_type": "markdown",
   "id": "d7f4ae0f",
   "metadata": {},
   "source": [
    "En python se pueden hacer asignaciones multiples de la siguiente manera"
   ]
  },
  {
   "cell_type": "code",
   "execution_count": 16,
   "id": "3def314f",
   "metadata": {},
   "outputs": [],
   "source": [
    "numero_ruedas = numero_neumaticos = 4 #Nota: Apuntan al mismo espacio en memoria"
   ]
  },
  {
   "cell_type": "code",
   "execution_count": 17,
   "id": "bb2c459a",
   "metadata": {},
   "outputs": [
    {
     "data": {
      "text/plain": [
       "140394059153744"
      ]
     },
     "execution_count": 17,
     "metadata": {},
     "output_type": "execute_result"
    }
   ],
   "source": [
    "id(numero_ruedas)"
   ]
  },
  {
   "cell_type": "code",
   "execution_count": 18,
   "id": "508a855a",
   "metadata": {},
   "outputs": [
    {
     "data": {
      "text/plain": [
       "140394059153744"
      ]
     },
     "execution_count": 18,
     "metadata": {},
     "output_type": "execute_result"
    }
   ],
   "source": [
    "id(numero_neumaticos)"
   ]
  },
  {
   "cell_type": "code",
   "execution_count": 19,
   "id": "48360ece",
   "metadata": {},
   "outputs": [
    {
     "data": {
      "text/plain": [
       "4"
      ]
     },
     "execution_count": 19,
     "metadata": {},
     "output_type": "execute_result"
    }
   ],
   "source": [
    "numero_ruedas"
   ]
  },
  {
   "cell_type": "code",
   "execution_count": 20,
   "id": "5c6a801e",
   "metadata": {},
   "outputs": [
    {
     "data": {
      "text/plain": [
       "4"
      ]
     },
     "execution_count": 20,
     "metadata": {},
     "output_type": "execute_result"
    }
   ],
   "source": [
    "numero_neumaticos"
   ]
  },
  {
   "cell_type": "code",
   "execution_count": 21,
   "id": "3b8c16f3",
   "metadata": {},
   "outputs": [],
   "source": [
    "estanterias, libros = 1, 5"
   ]
  },
  {
   "cell_type": "code",
   "execution_count": 22,
   "id": "d37d3594",
   "metadata": {},
   "outputs": [
    {
     "data": {
      "text/plain": [
       "1"
      ]
     },
     "execution_count": 22,
     "metadata": {},
     "output_type": "execute_result"
    }
   ],
   "source": [
    "estanterias"
   ]
  },
  {
   "cell_type": "code",
   "execution_count": 23,
   "id": "774505d6",
   "metadata": {},
   "outputs": [
    {
     "data": {
      "text/plain": [
       "5"
      ]
     },
     "execution_count": 23,
     "metadata": {},
     "output_type": "execute_result"
    }
   ],
   "source": [
    "libros"
   ]
  },
  {
   "cell_type": "markdown",
   "id": "59dd3882",
   "metadata": {},
   "source": [
    "### Gestion de memoria\n",
    "\n",
    "Python cuenta con una estrategia para gestionar la memoria llamada *conteo de referencias*, que consiste en contar cuantas veces a sido referenciada una variable, si el conteo es 0, entonces el *recolector de basura* dejara disponible el espacio en memoria de esa variable."
   ]
  },
  {
   "cell_type": "code",
   "execution_count": 24,
   "id": "a4c76018",
   "metadata": {},
   "outputs": [],
   "source": [
    "num1 = [1, 2, 3] # Asignacion de variable\n",
    "num2 = num1 # Generacion de referencia\n",
    "b = [True, False, num1] # Generacion de otra referencia"
   ]
  },
  {
   "cell_type": "code",
   "execution_count": 25,
   "id": "d12cda25",
   "metadata": {},
   "outputs": [
    {
     "ename": "NameError",
     "evalue": "name 'num1' is not defined",
     "output_type": "error",
     "traceback": [
      "\u001b[0;31m---------------------------------------------------------------------------\u001b[0m",
      "\u001b[0;31mNameError\u001b[0m                                 Traceback (most recent call last)",
      "Input \u001b[0;32mIn [25]\u001b[0m, in \u001b[0;36m<cell line: 2>\u001b[0;34m()\u001b[0m\n\u001b[1;32m      1\u001b[0m \u001b[38;5;28;01mdel\u001b[39;00m num1 \u001b[38;5;66;03m# Borrado de num1\u001b[39;00m\n\u001b[0;32m----> 2\u001b[0m \u001b[43mnum1\u001b[49m\n",
      "\u001b[0;31mNameError\u001b[0m: name 'num1' is not defined"
     ]
    }
   ],
   "source": [
    "del num1 # Borrado de num1\n",
    "num1"
   ]
  },
  {
   "cell_type": "code",
   "execution_count": 26,
   "id": "f5324cd7",
   "metadata": {},
   "outputs": [
    {
     "data": {
      "text/plain": [
       "[1, 2, 3]"
      ]
     },
     "execution_count": 26,
     "metadata": {},
     "output_type": "execute_result"
    }
   ],
   "source": [
    "num2 # num2 sigue existiendo a pezar de eliminar num1"
   ]
  },
  {
   "cell_type": "code",
   "execution_count": 27,
   "id": "5bbd84b5",
   "metadata": {},
   "outputs": [
    {
     "data": {
      "text/plain": [
       "[True, False, [1, 2, 3]]"
      ]
     },
     "execution_count": 27,
     "metadata": {},
     "output_type": "execute_result"
    }
   ],
   "source": [
    "b # b sigue existiendo a pezar de eliminar num1"
   ]
  },
  {
   "cell_type": "markdown",
   "id": "e13123e4",
   "metadata": {},
   "source": [
    "Se puede revisar el conteo de referencias usando la funcion `getrefcount` de la libreria `sys`\n",
    "\n",
    "> Nota: la funcion sys.getrefcount tiene un valor como minimo de 2, ya que al pasar la variable por la funcion, esta automaticamente tiene la referencia de la funcion"
   ]
  },
  {
   "cell_type": "code",
   "execution_count": 62,
   "id": "3d9eb1b4",
   "metadata": {},
   "outputs": [],
   "source": [
    "import sys\n",
    "a = 'cadena de texto'"
   ]
  },
  {
   "cell_type": "code",
   "execution_count": 63,
   "id": "5d27409b",
   "metadata": {},
   "outputs": [
    {
     "data": {
      "text/plain": [
       "2"
      ]
     },
     "execution_count": 63,
     "metadata": {},
     "output_type": "execute_result"
    }
   ],
   "source": [
    "sys.getrefcount(a)"
   ]
  },
  {
   "cell_type": "code",
   "execution_count": 64,
   "id": "b2c874ae",
   "metadata": {},
   "outputs": [],
   "source": [
    "b = a"
   ]
  },
  {
   "cell_type": "code",
   "execution_count": 65,
   "id": "28903524",
   "metadata": {},
   "outputs": [
    {
     "data": {
      "text/plain": [
       "3"
      ]
     },
     "execution_count": 65,
     "metadata": {},
     "output_type": "execute_result"
    }
   ],
   "source": [
    "sys.getrefcount(a)"
   ]
  },
  {
   "cell_type": "code",
   "execution_count": 66,
   "id": "6140963a",
   "metadata": {},
   "outputs": [
    {
     "data": {
      "text/plain": [
       "3"
      ]
     },
     "execution_count": 66,
     "metadata": {},
     "output_type": "execute_result"
    }
   ],
   "source": [
    "sys.getrefcount(b)"
   ]
  },
  {
   "cell_type": "code",
   "execution_count": 67,
   "id": "ea19685c",
   "metadata": {},
   "outputs": [],
   "source": [
    "del a"
   ]
  },
  {
   "cell_type": "code",
   "execution_count": 68,
   "id": "3c4c4b0e",
   "metadata": {},
   "outputs": [
    {
     "data": {
      "text/plain": [
       "2"
      ]
     },
     "execution_count": 68,
     "metadata": {},
     "output_type": "execute_result"
    }
   ],
   "source": [
    "sys.getrefcount(b)"
   ]
  },
  {
   "cell_type": "code",
   "execution_count": 70,
   "id": "b0e8175e",
   "metadata": {},
   "outputs": [
    {
     "ename": "NameError",
     "evalue": "name 'a' is not defined",
     "output_type": "error",
     "traceback": [
      "\u001b[0;31m---------------------------------------------------------------------------\u001b[0m",
      "\u001b[0;31mNameError\u001b[0m                                 Traceback (most recent call last)",
      "Input \u001b[0;32mIn [70]\u001b[0m, in \u001b[0;36m<cell line: 1>\u001b[0;34m()\u001b[0m\n\u001b[0;32m----> 1\u001b[0m sys\u001b[38;5;241m.\u001b[39mgetrefcount(\u001b[43ma\u001b[49m)\n",
      "\u001b[0;31mNameError\u001b[0m: name 'a' is not defined"
     ]
    }
   ],
   "source": [
    "sys.getrefcount(a)"
   ]
  },
  {
   "cell_type": "markdown",
   "id": "0d1f2daf",
   "metadata": {},
   "source": [
    "### Mutabilidad de variables\n",
    "\n",
    "Un dato es mutables si puede ser cambiado luego de ser definido, si no es mutable, no se aplica el cambio. Ejemplo"
   ]
  },
  {
   "cell_type": "code",
   "execution_count": 72,
   "id": "41225f2f",
   "metadata": {},
   "outputs": [
    {
     "name": "stdout",
     "output_type": "stream",
     "text": [
      "1 4 1\n",
      "1 4 7\n"
     ]
    }
   ],
   "source": [
    "x, y = 1, 4\n",
    "z = x\n",
    "print(x, y, z)\n",
    "z = 7 # Al cambiar z, x mantiene su valor ya que int no es mutable\n",
    "print(x, y, z)"
   ]
  },
  {
   "cell_type": "code",
   "execution_count": 73,
   "id": "4aab3759",
   "metadata": {},
   "outputs": [
    {
     "name": "stdout",
     "output_type": "stream",
     "text": [
      "[12, 3, 9] [12, 3, 9]\n",
      "[12, 3, -20] [12, 3, -20]\n"
     ]
    }
   ],
   "source": [
    "lst = [12, 3, 9]\n",
    "lst_copia = lst\n",
    "print(lst, lst_copia)\n",
    "lst_copia[2] = -20 # Al cambiar un elemento de la lista, ambas listas son modificada ya que list es mutable\n",
    "print(lst, lst_copia)"
   ]
  },
  {
   "cell_type": "markdown",
   "id": "45dadaf0",
   "metadata": {},
   "source": [
    "## Tipos booleanos\n",
    "Se representan por `True` y `False`"
   ]
  },
  {
   "cell_type": "code",
   "execution_count": 74,
   "id": "4732727f",
   "metadata": {},
   "outputs": [
    {
     "name": "stdout",
     "output_type": "stream",
     "text": [
      "True False\n"
     ]
    }
   ],
   "source": [
    "print(bool(True), bool(False))"
   ]
  },
  {
   "cell_type": "markdown",
   "id": "5494e638",
   "metadata": {},
   "source": [
    "La conversion de otros tipos de datos a booleanos se puede ver en la siguiente linea de codigo."
   ]
  },
  {
   "cell_type": "code",
   "execution_count": 75,
   "id": "947e36dc",
   "metadata": {},
   "outputs": [
    {
     "name": "stdout",
     "output_type": "stream",
     "text": [
      "False False False False False\n"
     ]
    }
   ],
   "source": [
    "print(bool(0), bool(0j), bool(''), bool(None), bool(set()))"
   ]
  },
  {
   "cell_type": "code",
   "execution_count": 76,
   "id": "a3ff4ae4",
   "metadata": {},
   "outputs": [
    {
     "name": "stdout",
     "output_type": "stream",
     "text": [
      "True True True True\n"
     ]
    }
   ],
   "source": [
    "print(bool(1), bool(-1), bool('casa'), bool(42))"
   ]
  },
  {
   "cell_type": "markdown",
   "id": "bd3c562e",
   "metadata": {},
   "source": [
    "Todos los obejtos en Python se consideran verdados, a no ser que sus metodos magicos `__bool__` devuelva `False` o que `__len__` sea 0.\n",
    "\n",
    "Algunos ejemplos de `False`:\n",
    "* Las constantes `None` y `False`\n",
    "* Los numeros `0`, `0.0` y `0j`\n",
    "* Los objetos vacios, `''`, `\"\"`, `set()`, `dict()`, `range(0)`, `[]`"
   ]
  }
 ],
 "metadata": {
  "kernelspec": {
   "display_name": "Python 3 (ipykernel)",
   "language": "python",
   "name": "python3"
  },
  "language_info": {
   "codemirror_mode": {
    "name": "ipython",
    "version": 3
   },
   "file_extension": ".py",
   "mimetype": "text/x-python",
   "name": "python",
   "nbconvert_exporter": "python",
   "pygments_lexer": "ipython3",
   "version": "3.10.6"
  }
 },
 "nbformat": 4,
 "nbformat_minor": 5
}
